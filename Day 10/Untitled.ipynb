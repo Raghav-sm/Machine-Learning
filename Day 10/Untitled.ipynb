{
 "cells": [
  {
   "cell_type": "markdown",
   "id": "f4c804fc",
   "metadata": {},
   "source": [
    "## Statistics"
   ]
  },
  {
   "cell_type": "markdown",
   "id": "206420e9",
   "metadata": {},
   "source": [
    "#### Histograms and distriutions  \n",
    "**Definition:**  \n",
    "Think of a histogram as a visual storyteller for your data. It's like a bar graph that shows you how often different values occur. Now, a distribution is the overall shape of this story – how the values are spread out.\n",
    "\n",
    "**Example:**  \n",
    "Imagine you're a teacher, and you're looking at the grades your students got on a test. The histogram would be like a graph showing how many students got each grade - a bar for those who got an A, another for a B, and so on. The distribution is the general pattern those bars create, like whether most students got average grades or if the grades are all over the place.\n",
    "\n",
    "**Use Case:**  \n",
    "Now, in machine learning, think about predicting student grades. If your data shows a normal distribution (a classic bell curve), with most students getting average grades, your model knows that predicting an average grade is a pretty safe bet. Understanding this distribution helps your model make more accurate predictions.\n",
    "\n",
    "**Why It Matters:**  \n",
    "Histograms and distributions are like the heartbeat of your data. They show you where the action is. In machine learning, understanding these helps you build models that are tuned into the patterns of your data. It's like having a GPS for your predictions, guiding your model to the most likely outcomes."
   ]
  },
  {
   "cell_type": "markdown",
   "id": "710633c6",
   "metadata": {},
   "source": [
    "### Normal Distribution  \n",
    "**Definition:**  \n",
    "The Normal Distribution is like the rockstar of data patterns. It's a specific way data tends to arrange itself, forming a symmetrical bell-shaped curve. Most data points hang out in the middle, and as you move away from the center, fewer points venture out.\n",
    "\n",
    "**Example:**  \n",
    "Imagine you're measuring the heights of a bunch of people in your town. In a normal distribution, most folks will be around the average height, creating a peak in the middle of the graph. Taller and shorter people become less common as you go further from the average, forming the sloping sides of the bell.\n",
    "\n",
    "**Use Case:**  \n",
    "Now, let's bring this into machine learning. Say you're predicting house prices. If the prices in a neighborhood follow a normal distribution, most houses will be around the average price. This insight helps your model make better predictions because it knows extreme prices are rarer.\n",
    "\n",
    "**Why It Matters:**  \n",
    "Normal distributions are everywhere in nature and human-made systems. In machine learning, recognizing this pattern is handy. It's like having a cheat code – it helps your model understand what's typical and what's unusual in your data. This understanding is gold when predicting outcomes based on patterns"
   ]
  },
  {
   "cell_type": "code",
   "execution_count": null,
   "id": "b2bf5320",
   "metadata": {},
   "outputs": [],
   "source": []
  }
 ],
 "metadata": {
  "kernelspec": {
   "display_name": "Python 3 (ipykernel)",
   "language": "python",
   "name": "python3"
  },
  "language_info": {
   "codemirror_mode": {
    "name": "ipython",
    "version": 3
   },
   "file_extension": ".py",
   "mimetype": "text/x-python",
   "name": "python",
   "nbconvert_exporter": "python",
   "pygments_lexer": "ipython3",
   "version": "3.10.12"
  }
 },
 "nbformat": 4,
 "nbformat_minor": 5
}
