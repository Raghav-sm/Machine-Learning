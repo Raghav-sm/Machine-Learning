{
 "cells": [
  {
   "cell_type": "markdown",
   "id": "7cbe5e42",
   "metadata": {},
   "source": [
    "# Why Numpy\n",
    "### Its optimized in C  \n",
    "### Vectorization via broadcasting"
   ]
  },
  {
   "cell_type": "code",
   "execution_count": 2,
   "id": "0c2b5a63",
   "metadata": {},
   "outputs": [],
   "source": [
    "import numpy as np\n",
    "import pandas as pd"
   ]
  },
  {
   "cell_type": "markdown",
   "id": "1b609cea",
   "metadata": {},
   "source": [
    "# DataTypes & Attributes"
   ]
  },
  {
   "cell_type": "code",
   "execution_count": 3,
   "id": "82c8d581",
   "metadata": {},
   "outputs": [
    {
     "data": {
      "text/plain": [
       "array([1, 2, 3])"
      ]
     },
     "execution_count": 3,
     "metadata": {},
     "output_type": "execute_result"
    }
   ],
   "source": [
    "#Numpy main datatype is ndarray\n",
    "a1 = np.array([1,2,3])\n",
    "a1"
   ]
  },
  {
   "cell_type": "code",
   "execution_count": 4,
   "id": "853a97dc",
   "metadata": {},
   "outputs": [],
   "source": [
    "a2 = np.array([[1,2.0,3],\n",
    "              [5.7,4,2]])"
   ]
  },
  {
   "cell_type": "code",
   "execution_count": 5,
   "id": "c04aebb6",
   "metadata": {},
   "outputs": [
    {
     "data": {
      "text/plain": [
       "(numpy.ndarray, numpy.ndarray)"
      ]
     },
     "execution_count": 5,
     "metadata": {},
     "output_type": "execute_result"
    }
   ],
   "source": [
    "type(a1) , type(a2)"
   ]
  },
  {
   "cell_type": "code",
   "execution_count": 6,
   "id": "5812c3fd",
   "metadata": {},
   "outputs": [
    {
     "data": {
      "text/plain": [
       "((3,), (2, 3))"
      ]
     },
     "execution_count": 6,
     "metadata": {},
     "output_type": "execute_result"
    }
   ],
   "source": [
    "a1.shape , a2.shape "
   ]
  },
  {
   "cell_type": "code",
   "execution_count": 7,
   "id": "79377558",
   "metadata": {},
   "outputs": [
    {
     "data": {
      "text/plain": [
       "(1, 2)"
      ]
     },
     "execution_count": 7,
     "metadata": {},
     "output_type": "execute_result"
    }
   ],
   "source": [
    "a1.ndim , a2.ndim"
   ]
  },
  {
   "cell_type": "code",
   "execution_count": 8,
   "id": "df129ca3",
   "metadata": {},
   "outputs": [
    {
     "data": {
      "text/plain": [
       "(dtype('int32'), dtype('float64'))"
      ]
     },
     "execution_count": 8,
     "metadata": {},
     "output_type": "execute_result"
    }
   ],
   "source": [
    "a1.dtype , a2.dtype"
   ]
  },
  {
   "cell_type": "code",
   "execution_count": 9,
   "id": "9fb68cd7",
   "metadata": {},
   "outputs": [
    {
     "data": {
      "text/plain": [
       "(3, 6)"
      ]
     },
     "execution_count": 9,
     "metadata": {},
     "output_type": "execute_result"
    }
   ],
   "source": [
    "a1.size ,a2.size"
   ]
  },
  {
   "cell_type": "code",
   "execution_count": 10,
   "id": "e794576c",
   "metadata": {},
   "outputs": [
    {
     "data": {
      "text/html": [
       "<div>\n",
       "<style scoped>\n",
       "    .dataframe tbody tr th:only-of-type {\n",
       "        vertical-align: middle;\n",
       "    }\n",
       "\n",
       "    .dataframe tbody tr th {\n",
       "        vertical-align: top;\n",
       "    }\n",
       "\n",
       "    .dataframe thead th {\n",
       "        text-align: right;\n",
       "    }\n",
       "</style>\n",
       "<table border=\"1\" class=\"dataframe\">\n",
       "  <thead>\n",
       "    <tr style=\"text-align: right;\">\n",
       "      <th></th>\n",
       "      <th>0</th>\n",
       "      <th>1</th>\n",
       "      <th>2</th>\n",
       "    </tr>\n",
       "  </thead>\n",
       "  <tbody>\n",
       "    <tr>\n",
       "      <th>0</th>\n",
       "      <td>1.0</td>\n",
       "      <td>2.0</td>\n",
       "      <td>3.0</td>\n",
       "    </tr>\n",
       "    <tr>\n",
       "      <th>1</th>\n",
       "      <td>5.7</td>\n",
       "      <td>4.0</td>\n",
       "      <td>2.0</td>\n",
       "    </tr>\n",
       "  </tbody>\n",
       "</table>\n",
       "</div>"
      ],
      "text/plain": [
       "     0    1    2\n",
       "0  1.0  2.0  3.0\n",
       "1  5.7  4.0  2.0"
      ]
     },
     "execution_count": 10,
     "metadata": {},
     "output_type": "execute_result"
    }
   ],
   "source": [
    "df = pd.DataFrame(a2)\n",
    "df"
   ]
  },
  {
   "cell_type": "markdown",
   "id": "84dc8654",
   "metadata": {},
   "source": [
    "## How to Create Numpy Arrays"
   ]
  },
  {
   "cell_type": "code",
   "execution_count": 11,
   "id": "467726b3",
   "metadata": {},
   "outputs": [
    {
     "data": {
      "text/plain": [
       "array([1, 2, 3])"
      ]
     },
     "execution_count": 11,
     "metadata": {},
     "output_type": "execute_result"
    }
   ],
   "source": [
    "sample_array = np.array([1,2,3])\n",
    "sample_array"
   ]
  },
  {
   "cell_type": "code",
   "execution_count": 12,
   "id": "4080059c",
   "metadata": {},
   "outputs": [
    {
     "data": {
      "text/plain": [
       "(dtype('int32'), (3,))"
      ]
     },
     "execution_count": 12,
     "metadata": {},
     "output_type": "execute_result"
    }
   ],
   "source": [
    "sample_array.dtype , sample_array.shape"
   ]
  },
  {
   "cell_type": "code",
   "execution_count": 13,
   "id": "cb105c29",
   "metadata": {},
   "outputs": [
    {
     "data": {
      "text/plain": [
       "array([[1., 1., 1.],\n",
       "       [1., 1., 1.]])"
      ]
     },
     "execution_count": 13,
     "metadata": {},
     "output_type": "execute_result"
    }
   ],
   "source": [
    "ones = np.ones((2 ,3)) # Press shift and tab to open documentaion \n",
    "ones"
   ]
  },
  {
   "cell_type": "code",
   "execution_count": 14,
   "id": "372c3331",
   "metadata": {},
   "outputs": [
    {
     "data": {
      "text/plain": [
       "array([[0., 0., 0.],\n",
       "       [0., 0., 0.]])"
      ]
     },
     "execution_count": 14,
     "metadata": {},
     "output_type": "execute_result"
    }
   ],
   "source": [
    "zeros = np.zeros((2,3))\n",
    "zeros"
   ]
  },
  {
   "cell_type": "code",
   "execution_count": 15,
   "id": "cc1b244e",
   "metadata": {},
   "outputs": [
    {
     "data": {
      "text/plain": [
       "array([0, 2, 4, 6, 8])"
      ]
     },
     "execution_count": 15,
     "metadata": {},
     "output_type": "execute_result"
    }
   ],
   "source": [
    "range_array = np.arange(0,10,2) # start = 0 , final = 10 ,step = 2\n",
    "range_array"
   ]
  },
  {
   "cell_type": "code",
   "execution_count": 16,
   "id": "7822c5f5",
   "metadata": {},
   "outputs": [
    {
     "data": {
      "text/plain": [
       "array([[9, 4, 0],\n",
       "       [3, 7, 9]])"
      ]
     },
     "execution_count": 16,
     "metadata": {},
     "output_type": "execute_result"
    }
   ],
   "source": [
    "random_array = np.random.randint(0,10, size = (2,3))\n",
    "random_array "
   ]
  },
  {
   "cell_type": "code",
   "execution_count": 17,
   "id": "9677ecd9",
   "metadata": {},
   "outputs": [
    {
     "data": {
      "text/plain": [
       "array([[0.91748458, 0.65101995, 0.19637351],\n",
       "       [0.33929306, 0.58340697, 0.69959981]])"
      ]
     },
     "execution_count": 17,
     "metadata": {},
     "output_type": "execute_result"
    }
   ],
   "source": [
    "random_array_2 = np.random.rand(2,3) # 2 is for  axis 0 , 3 is for  axis 1 and add axis n as u wish\n",
    "random_array_2"
   ]
  },
  {
   "cell_type": "code",
   "execution_count": 18,
   "id": "ffaa3329",
   "metadata": {},
   "outputs": [
    {
     "data": {
      "text/plain": [
       "array([[5, 0, 3],\n",
       "       [3, 7, 9],\n",
       "       [3, 5, 2],\n",
       "       [4, 7, 6],\n",
       "       [8, 8, 1]])"
      ]
     },
     "execution_count": 18,
     "metadata": {},
     "output_type": "execute_result"
    }
   ],
   "source": [
    "#Numpy Pseudo seeds\n",
    "np.random.seed(seed =0)\n",
    "random_Array_3 = np.random.randint(10 , size = (5,3))\n",
    "random_Array_3 \n",
    "#Problem is evertime i run this it gives me a new set of values,So how do i fix it?\n",
    "#add np.random.seed(seeed =0 )"
   ]
  },
  {
   "cell_type": "code",
   "execution_count": 19,
   "id": "725374b7",
   "metadata": {},
   "outputs": [
    {
     "data": {
      "text/plain": [
       "array([[0.07630829, 0.77991879, 0.43840923],\n",
       "       [0.72346518, 0.97798951, 0.53849587]])"
      ]
     },
     "execution_count": 19,
     "metadata": {},
     "output_type": "execute_result"
    }
   ],
   "source": [
    "np.random.seed(7) # when 7 is given somewhere else itll throw same numbers\n",
    "random_array_4 = np.random.random((2,3))\n",
    "random_array_4 "
   ]
  },
  {
   "cell_type": "code",
   "execution_count": null,
   "id": "c1269691",
   "metadata": {},
   "outputs": [],
   "source": []
  },
  {
   "cell_type": "markdown",
   "id": "f9846667",
   "metadata": {},
   "source": [
    "## Viewing Arrays and Matrices "
   ]
  },
  {
   "cell_type": "markdown",
   "id": "07168d87",
   "metadata": {},
   "source": [
    "###  1)Arithmetic "
   ]
  },
  {
   "cell_type": "code",
   "execution_count": 20,
   "id": "fdea0545",
   "metadata": {},
   "outputs": [
    {
     "data": {
      "text/plain": [
       "array([1, 2, 3])"
      ]
     },
     "execution_count": 20,
     "metadata": {},
     "output_type": "execute_result"
    }
   ],
   "source": [
    "a1"
   ]
  },
  {
   "cell_type": "code",
   "execution_count": 21,
   "id": "5e4b98a0",
   "metadata": {},
   "outputs": [
    {
     "data": {
      "text/plain": [
       "array([[1., 2., 3.],\n",
       "       [1., 2., 3.]])"
      ]
     },
     "execution_count": 21,
     "metadata": {},
     "output_type": "execute_result"
    }
   ],
   "source": [
    "a1 + zeros # or \n",
    "np.add( a1 , zeros)"
   ]
  },
  {
   "cell_type": "code",
   "execution_count": 22,
   "id": "dbbd251d",
   "metadata": {},
   "outputs": [
    {
     "data": {
      "text/plain": [
       "array([[1. , 2. , 3. ],\n",
       "       [5.7, 4. , 2. ]])"
      ]
     },
     "execution_count": 22,
     "metadata": {},
     "output_type": "execute_result"
    }
   ],
   "source": [
    "a2"
   ]
  },
  {
   "cell_type": "code",
   "execution_count": 23,
   "id": "922d3201",
   "metadata": {},
   "outputs": [
    {
     "data": {
      "text/plain": [
       "array([[ 2. ,  6. , 12. ],\n",
       "       [11.4, 12. ,  8. ]])"
      ]
     },
     "execution_count": 23,
     "metadata": {},
     "output_type": "execute_result"
    }
   ],
   "source": [
    "( a1  +  ones  ) * a2 "
   ]
  },
  {
   "cell_type": "code",
   "execution_count": 24,
   "id": "0d6f6ceb",
   "metadata": {},
   "outputs": [
    {
     "data": {
      "text/plain": [
       "array([[1. , 4. , 9. ],\n",
       "       [5.7, 8. , 6. ]])"
      ]
     },
     "execution_count": 24,
     "metadata": {},
     "output_type": "execute_result"
    }
   ],
   "source": [
    "a1 * a2  #no error cuz it brodcasted according to smaller array\n",
    "# a1 = array([1, 2, 3]) a2 = array([[1. , 2. , 3. ],\n",
    "                                   #[5.7, 4. , 2. ]])"
   ]
  },
  {
   "cell_type": "code",
   "execution_count": 25,
   "id": "36e43c29",
   "metadata": {},
   "outputs": [
    {
     "data": {
      "text/plain": [
       "array([[[9, 9, 8],\n",
       "        [7, 5, 1],\n",
       "        [8, 1, 8]],\n",
       "\n",
       "       [[7, 4, 6],\n",
       "        [9, 9, 8],\n",
       "        [6, 1, 1]]])"
      ]
     },
     "execution_count": 25,
     "metadata": {},
     "output_type": "execute_result"
    }
   ],
   "source": [
    "a3 = np.random.randint(1,10 , size = (2 , 3, 3))\n",
    "a3"
   ]
  },
  {
   "cell_type": "code",
   "execution_count": 26,
   "id": "eb0bc770",
   "metadata": {},
   "outputs": [],
   "source": [
    "#np.multiply(a2,a3)  # a2 * a3  \n",
    "# ValueError: operands could not be broadcast together with shapes (2,3) (3,4,5)  \n",
    "# How can we reshape a2 to make it comaptible with a3 ?"
   ]
  },
  {
   "cell_type": "code",
   "execution_count": 27,
   "id": "a6ae8082",
   "metadata": {},
   "outputs": [
    {
     "data": {
      "text/plain": [
       "array([[ 1.  ,  4.  ,  9.  ],\n",
       "       [32.49, 16.  ,  4.  ]])"
      ]
     },
     "execution_count": 27,
     "metadata": {},
     "output_type": "execute_result"
    }
   ],
   "source": [
    "np.square(a2) # or a2 ** "
   ]
  },
  {
   "cell_type": "markdown",
   "id": "19559729",
   "metadata": {},
   "source": [
    "## Aggregation "
   ]
  },
  {
   "cell_type": "markdown",
   "id": "b206fb94",
   "metadata": {},
   "source": [
    "###### Python's Version "
   ]
  },
  {
   "cell_type": "code",
   "execution_count": 28,
   "id": "e603dc7d",
   "metadata": {},
   "outputs": [
    {
     "name": "stdout",
     "output_type": "stream",
     "text": [
      "[1, 2, 3, 4]\n"
     ]
    },
    {
     "data": {
      "text/plain": [
       "10"
      ]
     },
     "execution_count": 28,
     "metadata": {},
     "output_type": "execute_result"
    }
   ],
   "source": [
    "# Pythons way of adding\n",
    "list = [ 1,2,3,4]\n",
    "print(list)\n",
    "sum(list)"
   ]
  },
  {
   "cell_type": "code",
   "execution_count": 29,
   "id": "99eede9c",
   "metadata": {},
   "outputs": [
    {
     "name": "stdout",
     "output_type": "stream",
     "text": [
      "[1 2 3 4]\n"
     ]
    },
    {
     "data": {
      "text/plain": [
       "10"
      ]
     },
     "execution_count": 29,
     "metadata": {},
     "output_type": "execute_result"
    }
   ],
   "source": [
    "#NumPy's Method to add \n",
    "a1 = np.array([1,2,3,4])\n",
    "print(a1)\n",
    "np.sum(a1)"
   ]
  },
  {
   "cell_type": "markdown",
   "id": "49d8967e",
   "metadata": {},
   "source": [
    "###### Use Python's Method ( ` sum() ` ) when using Python DataTypes  and NumPy Mehtod's When using NumPy  Methods (` np.sum() `)\n"
   ]
  },
  {
   "cell_type": "code",
   "execution_count": 30,
   "id": "48c4f3c9",
   "metadata": {},
   "outputs": [
    {
     "data": {
      "text/plain": [
       "1000"
      ]
     },
     "execution_count": 30,
     "metadata": {},
     "output_type": "execute_result"
    }
   ],
   "source": [
    "# Creating a Massive array \n",
    "massive_array = np.random.random(1000)\n",
    "massive_array.size"
   ]
  },
  {
   "cell_type": "code",
   "execution_count": 31,
   "id": "c8bba97b",
   "metadata": {},
   "outputs": [
    {
     "data": {
      "text/plain": [
       "array([0.85129459, 0.17405276, 0.79076351, 0.93762934, 0.4488258 ,\n",
       "       0.38464957, 0.35747524, 0.19335562, 0.10047397, 0.4826369 ])"
      ]
     },
     "execution_count": 31,
     "metadata": {},
     "output_type": "execute_result"
    }
   ],
   "source": [
    "massive_array[ : 10]"
   ]
  },
  {
   "cell_type": "code",
   "execution_count": 32,
   "id": "7c84ec1c",
   "metadata": {},
   "outputs": [
    {
     "name": "stdout",
     "output_type": "stream",
     "text": [
      "89.7 µs ± 610 ns per loop (mean ± std. dev. of 7 runs, 10,000 loops each)\n",
      "3.83 µs ± 7.63 ns per loop (mean ± std. dev. of 7 runs, 100,000 loops each)\n"
     ]
    }
   ],
   "source": [
    "%timeit  sum(massive_array) \n",
    "%timeit  np.sum(massive_array)"
   ]
  },
  {
   "cell_type": "code",
   "execution_count": 33,
   "id": "5af5814d",
   "metadata": {},
   "outputs": [
    {
     "data": {
      "text/plain": [
       "array([[1. , 2. , 3. ],\n",
       "       [5.7, 4. , 2. ]])"
      ]
     },
     "execution_count": 33,
     "metadata": {},
     "output_type": "execute_result"
    }
   ],
   "source": [
    "a2"
   ]
  },
  {
   "cell_type": "code",
   "execution_count": 34,
   "id": "35567a41",
   "metadata": {},
   "outputs": [
    {
     "name": "stdout",
     "output_type": "stream",
     "text": [
      "[[1. 2. 3.]\n",
      " [5. 4. 2.]]\n"
     ]
    }
   ],
   "source": [
    "a2[1][0] = 5\n",
    "print(a2)"
   ]
  },
  {
   "cell_type": "code",
   "execution_count": 35,
   "id": "af80eabc",
   "metadata": {},
   "outputs": [
    {
     "name": "stdout",
     "output_type": "stream",
     "text": [
      "a2 array :  [[1. 2. 3.]\n",
      " [5. 4. 2.]]\n",
      "\n",
      "Minimum in a2  1.0\n",
      "Maximum in a2  5.0\n",
      "Mean : 2.8333333333333335\n",
      "Variance : 1.8055555555555556\n",
      "standard deviation 1.3437096247164249\n",
      "   1.3437096247164249\n"
     ]
    }
   ],
   "source": [
    "print(\"a2 array : \" , a2)\n",
    "print()\n",
    "print(\"Minimum in a2 \" , np.min(a2))\n",
    "print(\"Maximum in a2 \" ,np.max(a2))\n",
    "print(\"Mean :\",np.mean(a2))\n",
    "print(\"Variance :\",np.var(a2))\n",
    "print(\"standard deviation\" , np.std(a2))\n",
    "print(\"  \", np.sqrt(np.var(a2)))\n"
   ]
  },
  {
   "cell_type": "markdown",
   "id": "9484bb20",
   "metadata": {},
   "source": [
    "**Standard deviation and variation**"
   ]
  },
  {
   "cell_type": "code",
   "execution_count": 36,
   "id": "d71c4106",
   "metadata": {},
   "outputs": [],
   "source": [
    "high_var_array = np.array([10,100,300,1000,5000])\n",
    "low_var_array = np.array([2,4,6,8,10])"
   ]
  },
  {
   "cell_type": "code",
   "execution_count": 37,
   "id": "68f56ed3",
   "metadata": {},
   "outputs": [
    {
     "data": {
      "text/plain": [
       "(3576496.0, 8.0)"
      ]
     },
     "execution_count": 37,
     "metadata": {},
     "output_type": "execute_result"
    }
   ],
   "source": [
    "np.var(high_var_array) , np.var(low_var_array)"
   ]
  },
  {
   "cell_type": "code",
   "execution_count": 38,
   "id": "3034a747",
   "metadata": {},
   "outputs": [
    {
     "data": {
      "text/plain": [
       "(1891.16260538326, 2.8284271247461903)"
      ]
     },
     "execution_count": 38,
     "metadata": {},
     "output_type": "execute_result"
    }
   ],
   "source": [
    "np.std(high_var_array) , np.std(low_var_array)"
   ]
  },
  {
   "cell_type": "code",
   "execution_count": 39,
   "id": "2613b675",
   "metadata": {},
   "outputs": [
    {
     "data": {
      "text/plain": [
       "(1282.0, 6.0)"
      ]
     },
     "execution_count": 39,
     "metadata": {},
     "output_type": "execute_result"
    }
   ],
   "source": [
    "np.mean(high_var_array) , np.mean(low_var_array)"
   ]
  },
  {
   "cell_type": "code",
   "execution_count": 40,
   "id": "08654e70",
   "metadata": {},
   "outputs": [
    {
     "data": {
      "text/plain": [
       "<function matplotlib.pyplot.show(close=None, block=None)>"
      ]
     },
     "execution_count": 40,
     "metadata": {},
     "output_type": "execute_result"
    },
    {
     "data": {
      "image/png": "[encoded data removed]",
      "text/plain": [
       "<Figure size 640x480 with 1 Axes>"
      ]
     },
     "metadata": {},
     "output_type": "display_data"
    }
   ],
   "source": [
    "%matplotlib inline\n",
    "import matplotlib.pyplot as plt\n",
    "plt.hist(high_var_array)\n",
    "plt.show"
   ]
  },
  {
   "cell_type": "code",
   "execution_count": 41,
   "id": "b59d0ad0",
   "metadata": {},
   "outputs": [
    {
     "data": {
      "text/plain": [
       "<function matplotlib.pyplot.show(close=None, block=None)>"
      ]
     },
     "execution_count": 41,
     "metadata": {},
     "output_type": "execute_result"
    },
    {
     "data": {
      "image/png": "[encoded data removed]",
      "text/plain": [
       "<Figure size 640x480 with 1 Axes>"
      ]
     },
     "metadata": {},
     "output_type": "display_data"
    }
   ],
   "source": [
    "plt.hist(low_var_array)\n",
    "plt.show"
   ]
  },
  {
   "cell_type": "markdown",
   "id": "aca6df58",
   "metadata": {},
   "source": [
    "## Reshaping and Transposing\n",
    "**Shaping array according to our needs**"
   ]
  },
  {
   "cell_type": "code",
   "execution_count": 42,
   "id": "68987e66",
   "metadata": {},
   "outputs": [
    {
     "data": {
      "text/plain": [
       "array([[1., 2., 3.],\n",
       "       [5., 4., 2.]])"
      ]
     },
     "execution_count": 42,
     "metadata": {},
     "output_type": "execute_result"
    }
   ],
   "source": [
    "a2"
   ]
  },
  {
   "cell_type": "code",
   "execution_count": 77,
   "id": "ac686cba",
   "metadata": {},
   "outputs": [
    {
     "data": {
      "text/plain": [
       "(array([[[9, 9, 8],\n",
       "         [7, 5, 1],\n",
       "         [8, 1, 8]],\n",
       " \n",
       "        [[7, 4, 6],\n",
       "         [9, 9, 8],\n",
       "         [6, 1, 1]]]),\n",
       " (2, 3, 3))"
      ]
     },
     "execution_count": 77,
     "metadata": {},
     "output_type": "execute_result"
    }
   ],
   "source": [
    "a3 ,a3.shape"
   ]
  },
  {
   "cell_type": "markdown",
   "id": "b5a34f66",
   "metadata": {},
   "source": [
    "`np.multiply(a2, a3)` **Will not work** "
   ]
  },
  {
   "cell_type": "code",
   "execution_count": 44,
   "id": "bd3ab939",
   "metadata": {},
   "outputs": [
    {
     "data": {
      "text/plain": [
       "((2, 3), (2, 3, 3))"
      ]
     },
     "execution_count": 44,
     "metadata": {},
     "output_type": "execute_result"
    }
   ],
   "source": [
    "a2.shape , a3.shape # Need to reshape  a2"
   ]
  },
  {
   "cell_type": "code",
   "execution_count": 45,
   "id": "d72bd234",
   "metadata": {},
   "outputs": [
    {
     "data": {
      "text/plain": [
       "(2, 3, 1)"
      ]
     },
     "execution_count": 45,
     "metadata": {},
     "output_type": "execute_result"
    }
   ],
   "source": [
    "a2.reshape(2 , 3, 1).shape"
   ]
  },
  {
   "cell_type": "code",
   "execution_count": 46,
   "id": "c60e2316",
   "metadata": {},
   "outputs": [],
   "source": [
    "a2_reshaped = a2.reshape(2 , 3 ,1).shape"
   ]
  },
  {
   "cell_type": "code",
   "execution_count": 47,
   "id": "5f37c1ec",
   "metadata": {},
   "outputs": [
    {
     "data": {
      "text/plain": [
       "(2, 3, 1)"
      ]
     },
     "execution_count": 47,
     "metadata": {},
     "output_type": "execute_result"
    }
   ],
   "source": [
    "a2_reshaped"
   ]
  },
  {
   "cell_type": "code",
   "execution_count": 48,
   "id": "ccb40f1b",
   "metadata": {},
   "outputs": [
    {
     "data": {
      "text/plain": [
       "array([[[18, 27,  8],\n",
       "        [14, 15,  1],\n",
       "        [16,  3,  8]],\n",
       "\n",
       "       [[14, 12,  6],\n",
       "        [18, 27,  8],\n",
       "        [12,  3,  1]]])"
      ]
     },
     "execution_count": 48,
     "metadata": {},
     "output_type": "execute_result"
    }
   ],
   "source": [
    "a2_reshaped * a3 "
   ]
  },
  {
   "cell_type": "markdown",
   "id": "54c23387",
   "metadata": {},
   "source": [
    "**Transpose**"
   ]
  },
  {
   "cell_type": "code",
   "execution_count": 49,
   "id": "54feab00",
   "metadata": {},
   "outputs": [
    {
     "data": {
      "text/plain": [
       "(array([[1., 2., 3.],\n",
       "        [5., 4., 2.]]),\n",
       " (2, 3))"
      ]
     },
     "execution_count": 49,
     "metadata": {},
     "output_type": "execute_result"
    }
   ],
   "source": [
    "a2 , a2.shape"
   ]
  },
  {
   "cell_type": "code",
   "execution_count": 50,
   "id": "e649cd68",
   "metadata": {},
   "outputs": [
    {
     "data": {
      "text/plain": [
       "(array([[1., 5.],\n",
       "        [2., 4.],\n",
       "        [3., 2.]]),\n",
       " (3, 2))"
      ]
     },
     "execution_count": 50,
     "metadata": {},
     "output_type": "execute_result"
    }
   ],
   "source": [
    "a2.T  , a2.T.shape"
   ]
  },
  {
   "cell_type": "code",
   "execution_count": 51,
   "id": "11133b37",
   "metadata": {},
   "outputs": [
    {
     "data": {
      "text/plain": [
       "(array([[[9, 9, 8],\n",
       "         [7, 5, 1],\n",
       "         [8, 1, 8]],\n",
       " \n",
       "        [[7, 4, 6],\n",
       "         [9, 9, 8],\n",
       "         [6, 1, 1]]]),\n",
       " (2, 3, 3))"
      ]
     },
     "execution_count": 51,
     "metadata": {},
     "output_type": "execute_result"
    }
   ],
   "source": [
    "a3 , a3.shape"
   ]
  },
  {
   "cell_type": "code",
   "execution_count": 52,
   "id": "4af0c544",
   "metadata": {},
   "outputs": [
    {
     "data": {
      "text/plain": [
       "(array([[[9, 7],\n",
       "         [7, 9],\n",
       "         [8, 6]],\n",
       " \n",
       "        [[9, 4],\n",
       "         [5, 9],\n",
       "         [1, 1]],\n",
       " \n",
       "        [[8, 6],\n",
       "         [1, 8],\n",
       "         [8, 1]]]),\n",
       " (3, 3, 2))"
      ]
     },
     "execution_count": 52,
     "metadata": {},
     "output_type": "execute_result"
    }
   ],
   "source": [
    "a3.T , a3.T.shape"
   ]
  },
  {
   "cell_type": "markdown",
   "id": "27ca3bbf",
   "metadata": {},
   "source": [
    "    Dot product .wtverCheckingMkdn Lang"
   ]
  },
  {
   "cell_type": "code",
   "execution_count": 53,
   "id": "5c3c9a8d",
   "metadata": {},
   "outputs": [],
   "source": [
    "np.random.seed(0)\n",
    "mat1 = np.random.randint(10 ,size=(5,3))\n",
    "mat2 = np.random.randint(10 ,size=(5,3))"
   ]
  },
  {
   "cell_type": "code",
   "execution_count": 54,
   "id": "4b05113e",
   "metadata": {},
   "outputs": [
    {
     "data": {
      "text/plain": [
       "(array([[5, 0, 3],\n",
       "        [3, 7, 9],\n",
       "        [3, 5, 2],\n",
       "        [4, 7, 6],\n",
       "        [8, 8, 1]]),\n",
       " (5, 3))"
      ]
     },
     "execution_count": 54,
     "metadata": {},
     "output_type": "execute_result"
    }
   ],
   "source": [
    "mat1 , mat1.shape "
   ]
  },
  {
   "cell_type": "code",
   "execution_count": 55,
   "id": "ed8d4865",
   "metadata": {},
   "outputs": [
    {
     "data": {
      "text/plain": [
       "(array([[6, 7, 7],\n",
       "        [8, 1, 5],\n",
       "        [9, 8, 9],\n",
       "        [4, 3, 0],\n",
       "        [3, 5, 0]]),\n",
       " (5, 3))"
      ]
     },
     "execution_count": 55,
     "metadata": {},
     "output_type": "execute_result"
    }
   ],
   "source": [
    "mat2 , mat2.shape"
   ]
  },
  {
   "cell_type": "markdown",
   "id": "5da8d1ef",
   "metadata": {},
   "source": [
    "**Hadamard product , normal elemental multiplication**"
   ]
  },
  {
   "cell_type": "code",
   "execution_count": 56,
   "id": "b3e43985",
   "metadata": {},
   "outputs": [
    {
     "data": {
      "text/plain": [
       "array([[30,  0, 21],\n",
       "       [24,  7, 45],\n",
       "       [27, 40, 18],\n",
       "       [16, 21,  0],\n",
       "       [24, 40,  0]])"
      ]
     },
     "execution_count": 56,
     "metadata": {},
     "output_type": "execute_result"
    }
   ],
   "source": [
    "np.multiply(mat1 , mat2)"
   ]
  },
  {
   "cell_type": "markdown",
   "id": "dd37e3a8",
   "metadata": {},
   "source": [
    "``` np.dot(mat1 , mat2) ``` **Will not work,Transpose is mandatory**"
   ]
  },
  {
   "cell_type": "code",
   "execution_count": 57,
   "id": "6e32f60d",
   "metadata": {},
   "outputs": [],
   "source": [
    "mat3 = np.dot(mat1 , mat2.T) "
   ]
  },
  {
   "cell_type": "code",
   "execution_count": 58,
   "id": "20965c8a",
   "metadata": {},
   "outputs": [
    {
     "data": {
      "text/plain": [
       "array([[ 51,  55,  72,  20,  15],\n",
       "       [130,  76, 164,  33,  44],\n",
       "       [ 67,  39,  85,  27,  34],\n",
       "       [115,  69, 146,  37,  47],\n",
       "       [111,  77, 145,  56,  64]])"
      ]
     },
     "execution_count": 58,
     "metadata": {},
     "output_type": "execute_result"
    }
   ],
   "source": [
    "mat3"
   ]
  },
  {
   "cell_type": "markdown",
   "id": "cd676589",
   "metadata": {},
   "source": [
    "**Dot Product example(Nut butter)**"
   ]
  },
  {
   "cell_type": "code",
   "execution_count": 80,
   "id": "9d962cb8",
   "metadata": {},
   "outputs": [
    {
     "data": {
      "text/plain": [
       "array([[12, 15,  0],\n",
       "       [ 3,  3,  7],\n",
       "       [ 9, 19, 18],\n",
       "       [ 4,  6, 12],\n",
       "       [ 1,  6,  7]])"
      ]
     },
     "execution_count": 80,
     "metadata": {},
     "output_type": "execute_result"
    }
   ],
   "source": [
    "np.random.seed(0)\n",
    "sales_amnts = np.random.randint(20 , size = (5,3))\n",
    "sales_amnts"
   ]
  },
  {
   "cell_type": "code",
   "execution_count": 81,
   "id": "a4d83bbb",
   "metadata": {},
   "outputs": [],
   "source": [
    "weekly_sales =  pd.DataFrame(sales_amnts , \n",
    "                            index = ['Monday' , 'Tuesday', 'Wednesday','Thursday','Friday'] ,\n",
    "                            columns = ['Almond butter' , 'Peanut butter','Cashew butter'])"
   ]
  },
  {
   "cell_type": "code",
   "execution_count": 82,
   "id": "2be37b30",
   "metadata": {},
   "outputs": [
    {
     "data": {
      "text/html": [
       "<div>\n",
       "<style scoped>\n",
       "    .dataframe tbody tr th:only-of-type {\n",
       "        vertical-align: middle;\n",
       "    }\n",
       "\n",
       "    .dataframe tbody tr th {\n",
       "        vertical-align: top;\n",
       "    }\n",
       "\n",
       "    .dataframe thead th {\n",
       "        text-align: right;\n",
       "    }\n",
       "</style>\n",
       "<table border=\"1\" class=\"dataframe\">\n",
       "  <thead>\n",
       "    <tr style=\"text-align: right;\">\n",
       "      <th></th>\n",
       "      <th>Almond butter</th>\n",
       "      <th>Peanut butter</th>\n",
       "      <th>Cashew butter</th>\n",
       "    </tr>\n",
       "  </thead>\n",
       "  <tbody>\n",
       "    <tr>\n",
       "      <th>Monday</th>\n",
       "      <td>12</td>\n",
       "      <td>15</td>\n",
       "      <td>0</td>\n",
       "    </tr>\n",
       "    <tr>\n",
       "      <th>Tuesday</th>\n",
       "      <td>3</td>\n",
       "      <td>3</td>\n",
       "      <td>7</td>\n",
       "    </tr>\n",
       "    <tr>\n",
       "      <th>Wednesday</th>\n",
       "      <td>9</td>\n",
       "      <td>19</td>\n",
       "      <td>18</td>\n",
       "    </tr>\n",
       "    <tr>\n",
       "      <th>Thursday</th>\n",
       "      <td>4</td>\n",
       "      <td>6</td>\n",
       "      <td>12</td>\n",
       "    </tr>\n",
       "    <tr>\n",
       "      <th>Friday</th>\n",
       "      <td>1</td>\n",
       "      <td>6</td>\n",
       "      <td>7</td>\n",
       "    </tr>\n",
       "  </tbody>\n",
       "</table>\n",
       "</div>"
      ],
      "text/plain": [
       "           Almond butter  Peanut butter  Cashew butter\n",
       "Monday                12             15              0\n",
       "Tuesday                3              3              7\n",
       "Wednesday              9             19             18\n",
       "Thursday               4              6             12\n",
       "Friday                 1              6              7"
      ]
     },
     "execution_count": 82,
     "metadata": {},
     "output_type": "execute_result"
    }
   ],
   "source": [
    "weekly_sales"
   ]
  },
  {
   "cell_type": "code",
   "execution_count": 83,
   "id": "06eb31ff",
   "metadata": {},
   "outputs": [
    {
     "data": {
      "text/plain": [
       "array([12,  8, 14])"
      ]
     },
     "execution_count": 83,
     "metadata": {},
     "output_type": "execute_result"
    }
   ],
   "source": [
    "Prices = np.array([12,8,14])\n",
    "Prices"
   ]
  },
  {
   "cell_type": "code",
   "execution_count": 84,
   "id": "226a32d6",
   "metadata": {},
   "outputs": [
    {
     "data": {
      "text/plain": [
       "(3,)"
      ]
     },
     "execution_count": 84,
     "metadata": {},
     "output_type": "execute_result"
    }
   ],
   "source": [
    "Prices.shape"
   ]
  },
  {
   "cell_type": "code",
   "execution_count": 85,
   "id": "f581a9e5",
   "metadata": {},
   "outputs": [
    {
     "data": {
      "text/html": [
       "<div>\n",
       "<style scoped>\n",
       "    .dataframe tbody tr th:only-of-type {\n",
       "        vertical-align: middle;\n",
       "    }\n",
       "\n",
       "    .dataframe tbody tr th {\n",
       "        vertical-align: top;\n",
       "    }\n",
       "\n",
       "    .dataframe thead th {\n",
       "        text-align: right;\n",
       "    }\n",
       "</style>\n",
       "<table border=\"1\" class=\"dataframe\">\n",
       "  <thead>\n",
       "    <tr style=\"text-align: right;\">\n",
       "      <th></th>\n",
       "      <th>Almond butter</th>\n",
       "      <th>Peanut butter</th>\n",
       "      <th>Cashew butter</th>\n",
       "    </tr>\n",
       "  </thead>\n",
       "  <tbody>\n",
       "    <tr>\n",
       "      <th>Price</th>\n",
       "      <td>12</td>\n",
       "      <td>8</td>\n",
       "      <td>14</td>\n",
       "    </tr>\n",
       "  </tbody>\n",
       "</table>\n",
       "</div>"
      ],
      "text/plain": [
       "       Almond butter  Peanut butter  Cashew butter\n",
       "Price             12              8             14"
      ]
     },
     "execution_count": 85,
     "metadata": {},
     "output_type": "execute_result"
    }
   ],
   "source": [
    "Butter_Prices = pd.DataFrame(Prices.reshape(1 , 3) ,\n",
    "                             index = ['Price'],\n",
    "                             columns = ['Almond butter' ,'Peanut butter','Cashew butter'])\n",
    "Butter_Prices"
   ]
  },
  {
   "cell_type": "markdown",
   "id": "fd55f48c",
   "metadata": {},
   "source": [
    "**Now ,We'll have to calculate the prizes by doing Dot product between the 2 DataFrames given above.**"
   ]
  },
  {
   "cell_type": "markdown",
   "id": "5035a123",
   "metadata": {},
   "source": [
    "Checking the size so we can dot product between both"
   ]
  },
  {
   "cell_type": "code",
   "execution_count": 86,
   "id": "6e25ac91",
   "metadata": {},
   "outputs": [
    {
     "data": {
      "text/plain": [
       "((5, 3), (3,))"
      ]
     },
     "execution_count": 86,
     "metadata": {},
     "output_type": "execute_result"
    }
   ],
   "source": [
    "weekly_sales.shape , Prices.shape"
   ]
  },
  {
   "cell_type": "code",
   "execution_count": 87,
   "id": "7fe802c6",
   "metadata": {},
   "outputs": [
    {
     "data": {
      "text/plain": [
       "Monday       264\n",
       "Tuesday      158\n",
       "Wednesday    512\n",
       "Thursday     264\n",
       "Friday       158\n",
       "dtype: int32"
      ]
     },
     "execution_count": 87,
     "metadata": {},
     "output_type": "execute_result"
    }
   ],
   "source": [
    "#Total_sales = Prices.dot(weekly_sales.T)\n",
    "Total_sales = weekly_sales.dot(Prices) # final aaray shape 5x1\n",
    "Total_sales"
   ]
  },
  {
   "cell_type": "code",
   "execution_count": 67,
   "id": "53c1cacd",
   "metadata": {},
   "outputs": [
    {
     "data": {
      "text/plain": [
       "((1, 3), (5, 3))"
      ]
     },
     "execution_count": 67,
     "metadata": {},
     "output_type": "execute_result"
    }
   ],
   "source": [
    "Butter_Prices.shape , weekly_sales.shape"
   ]
  },
  {
   "cell_type": "code",
   "execution_count": 88,
   "id": "51c5bd0f",
   "metadata": {},
   "outputs": [
    {
     "ename": "ValueError",
     "evalue": "matrices are not aligned",
     "output_type": "error",
     "traceback": [
      "\u001b[1;31m---------------------------------------------------------------------------\u001b[0m",
      "\u001b[1;31mValueError\u001b[0m                                Traceback (most recent call last)",
      "\u001b[1;32m~\\AppData\\Local\\Temp\\ipykernel_15616\\566751552.py\u001b[0m in \u001b[0;36m?\u001b[1;34m()\u001b[0m\n\u001b[1;32m----> 1\u001b[1;33m \u001b[0mdaily_sales\u001b[0m \u001b[1;33m=\u001b[0m \u001b[0mweekly_sales\u001b[0m\u001b[1;33m.\u001b[0m\u001b[0mdot\u001b[0m\u001b[1;33m(\u001b[0m\u001b[0mButter_Prices\u001b[0m\u001b[1;33m)\u001b[0m\u001b[1;33m\u001b[0m\u001b[1;33m\u001b[0m\u001b[0m\n\u001b[0m\u001b[0;32m      2\u001b[0m \u001b[0mdaily_sales\u001b[0m\u001b[1;33m\u001b[0m\u001b[1;33m\u001b[0m\u001b[0m\n",
      "\u001b[1;32mE:\\conda_project\\env\\lib\\site-packages\\pandas\\core\\frame.py\u001b[0m in \u001b[0;36m?\u001b[1;34m(self, other)\u001b[0m\n\u001b[0;32m   1579\u001b[0m         \"\"\"\n\u001b[0;32m   1580\u001b[0m         \u001b[1;32mif\u001b[0m \u001b[0misinstance\u001b[0m\u001b[1;33m(\u001b[0m\u001b[0mother\u001b[0m\u001b[1;33m,\u001b[0m \u001b[1;33m(\u001b[0m\u001b[0mSeries\u001b[0m\u001b[1;33m,\u001b[0m \u001b[0mDataFrame\u001b[0m\u001b[1;33m)\u001b[0m\u001b[1;33m)\u001b[0m\u001b[1;33m:\u001b[0m\u001b[1;33m\u001b[0m\u001b[1;33m\u001b[0m\u001b[0m\n\u001b[0;32m   1581\u001b[0m             \u001b[0mcommon\u001b[0m \u001b[1;33m=\u001b[0m \u001b[0mself\u001b[0m\u001b[1;33m.\u001b[0m\u001b[0mcolumns\u001b[0m\u001b[1;33m.\u001b[0m\u001b[0munion\u001b[0m\u001b[1;33m(\u001b[0m\u001b[0mother\u001b[0m\u001b[1;33m.\u001b[0m\u001b[0mindex\u001b[0m\u001b[1;33m)\u001b[0m\u001b[1;33m\u001b[0m\u001b[1;33m\u001b[0m\u001b[0m\n\u001b[0;32m   1582\u001b[0m             \u001b[1;32mif\u001b[0m \u001b[0mlen\u001b[0m\u001b[1;33m(\u001b[0m\u001b[0mcommon\u001b[0m\u001b[1;33m)\u001b[0m \u001b[1;33m>\u001b[0m \u001b[0mlen\u001b[0m\u001b[1;33m(\u001b[0m\u001b[0mself\u001b[0m\u001b[1;33m.\u001b[0m\u001b[0mcolumns\u001b[0m\u001b[1;33m)\u001b[0m \u001b[1;32mor\u001b[0m \u001b[0mlen\u001b[0m\u001b[1;33m(\u001b[0m\u001b[0mcommon\u001b[0m\u001b[1;33m)\u001b[0m \u001b[1;33m>\u001b[0m \u001b[0mlen\u001b[0m\u001b[1;33m(\u001b[0m\u001b[0mother\u001b[0m\u001b[1;33m.\u001b[0m\u001b[0mindex\u001b[0m\u001b[1;33m)\u001b[0m\u001b[1;33m:\u001b[0m\u001b[1;33m\u001b[0m\u001b[1;33m\u001b[0m\u001b[0m\n\u001b[1;32m-> 1583\u001b[1;33m                 \u001b[1;32mraise\u001b[0m \u001b[0mValueError\u001b[0m\u001b[1;33m(\u001b[0m\u001b[1;34m\"matrices are not aligned\"\u001b[0m\u001b[1;33m)\u001b[0m\u001b[1;33m\u001b[0m\u001b[1;33m\u001b[0m\u001b[0m\n\u001b[0m\u001b[0;32m   1584\u001b[0m \u001b[1;33m\u001b[0m\u001b[0m\n\u001b[0;32m   1585\u001b[0m             \u001b[0mleft\u001b[0m \u001b[1;33m=\u001b[0m \u001b[0mself\u001b[0m\u001b[1;33m.\u001b[0m\u001b[0mreindex\u001b[0m\u001b[1;33m(\u001b[0m\u001b[0mcolumns\u001b[0m\u001b[1;33m=\u001b[0m\u001b[0mcommon\u001b[0m\u001b[1;33m,\u001b[0m \u001b[0mcopy\u001b[0m\u001b[1;33m=\u001b[0m\u001b[1;32mFalse\u001b[0m\u001b[1;33m)\u001b[0m\u001b[1;33m\u001b[0m\u001b[1;33m\u001b[0m\u001b[0m\n\u001b[0;32m   1586\u001b[0m             \u001b[0mright\u001b[0m \u001b[1;33m=\u001b[0m \u001b[0mother\u001b[0m\u001b[1;33m.\u001b[0m\u001b[0mreindex\u001b[0m\u001b[1;33m(\u001b[0m\u001b[0mindex\u001b[0m\u001b[1;33m=\u001b[0m\u001b[0mcommon\u001b[0m\u001b[1;33m,\u001b[0m \u001b[0mcopy\u001b[0m\u001b[1;33m=\u001b[0m\u001b[1;32mFalse\u001b[0m\u001b[1;33m)\u001b[0m\u001b[1;33m\u001b[0m\u001b[1;33m\u001b[0m\u001b[0m\n",
      "\u001b[1;31mValueError\u001b[0m: matrices are not aligned"
     ]
    }
   ],
   "source": [
    "daily_sales = weekly_sales.dot(Butter_Prices)\n",
    "daily_sales"
   ]
  },
  {
   "cell_type": "code",
   "execution_count": 69,
   "id": "50a7bb1b",
   "metadata": {},
   "outputs": [
    {
     "data": {
      "text/plain": [
       "((5, 3), (1, 5))"
      ]
     },
     "execution_count": 69,
     "metadata": {},
     "output_type": "execute_result"
    }
   ],
   "source": [
    " weekly_sales.shape ,daily_sales.shape "
   ]
  },
  {
   "cell_type": "markdown",
   "id": "6a6e09e0",
   "metadata": {},
   "source": [
    "To merge daily sales into weekly sales we need the shape to be same"
   ]
  },
  {
   "cell_type": "code",
   "execution_count": 70,
   "id": "c715fa2a",
   "metadata": {},
   "outputs": [
    {
     "data": {
      "text/html": [
       "<div>\n",
       "<style scoped>\n",
       "    .dataframe tbody tr th:only-of-type {\n",
       "        vertical-align: middle;\n",
       "    }\n",
       "\n",
       "    .dataframe tbody tr th {\n",
       "        vertical-align: top;\n",
       "    }\n",
       "\n",
       "    .dataframe thead th {\n",
       "        text-align: right;\n",
       "    }\n",
       "</style>\n",
       "<table border=\"1\" class=\"dataframe\">\n",
       "  <thead>\n",
       "    <tr style=\"text-align: right;\">\n",
       "      <th></th>\n",
       "      <th>Almond butter</th>\n",
       "      <th>Peanut butter</th>\n",
       "      <th>Cashew butter</th>\n",
       "      <th>Total (RS)</th>\n",
       "    </tr>\n",
       "  </thead>\n",
       "  <tbody>\n",
       "    <tr>\n",
       "      <th>Monday</th>\n",
       "      <td>12</td>\n",
       "      <td>15</td>\n",
       "      <td>0</td>\n",
       "      <td>264</td>\n",
       "    </tr>\n",
       "    <tr>\n",
       "      <th>Tuesday</th>\n",
       "      <td>3</td>\n",
       "      <td>3</td>\n",
       "      <td>7</td>\n",
       "      <td>158</td>\n",
       "    </tr>\n",
       "    <tr>\n",
       "      <th>Wednesday</th>\n",
       "      <td>9</td>\n",
       "      <td>19</td>\n",
       "      <td>18</td>\n",
       "      <td>512</td>\n",
       "    </tr>\n",
       "    <tr>\n",
       "      <th>Thursday</th>\n",
       "      <td>4</td>\n",
       "      <td>6</td>\n",
       "      <td>12</td>\n",
       "      <td>264</td>\n",
       "    </tr>\n",
       "    <tr>\n",
       "      <th>Friday</th>\n",
       "      <td>1</td>\n",
       "      <td>6</td>\n",
       "      <td>7</td>\n",
       "      <td>158</td>\n",
       "    </tr>\n",
       "  </tbody>\n",
       "</table>\n",
       "</div>"
      ],
      "text/plain": [
       "           Almond butter  Peanut butter  Cashew butter  Total (RS)\n",
       "Monday                12             15              0         264\n",
       "Tuesday                3              3              7         158\n",
       "Wednesday              9             19             18         512\n",
       "Thursday               4              6             12         264\n",
       "Friday                 1              6              7         158"
      ]
     },
     "execution_count": 70,
     "metadata": {},
     "output_type": "execute_result"
    }
   ],
   "source": [
    "weekly_sales['Total (RS)'] = daily_sales.T\n",
    "weekly_sales"
   ]
  },
  {
   "cell_type": "code",
   "execution_count": 71,
   "id": "7b07b80b",
   "metadata": {},
   "outputs": [
    {
     "data": {
      "text/plain": [
       "array([[0.52889492, 0.56804456, 0.92559664, 0.07103606, 0.0871293 ],\n",
       "       [0.0202184 , 0.83261985, 0.77815675, 0.87001215, 0.97861834],\n",
       "       [0.79915856, 0.46147936, 0.78052918, 0.11827443, 0.63992102],\n",
       "       [0.14335329, 0.94466892, 0.52184832, 0.41466194, 0.26455561]])"
      ]
     },
     "execution_count": 71,
     "metadata": {},
     "output_type": "execute_result"
    }
   ],
   "source": [
    "arrt = np.random.rand(4,5)\n",
    "arrt"
   ]
  },
  {
   "cell_type": "code",
   "execution_count": 76,
   "id": "ee1550d4",
   "metadata": {},
   "outputs": [
    {
     "data": {
      "text/plain": [
       "array([[0.52889492, 0.92559664],\n",
       "       [0.79915856, 0.78052918]])"
      ]
     },
     "execution_count": 76,
     "metadata": {},
     "output_type": "execute_result"
    }
   ],
   "source": [
    "arrt[0:3:2,0:-1:2]"
   ]
  },
  {
   "cell_type": "code",
   "execution_count": null,
   "id": "385ca990",
   "metadata": {},
   "outputs": [],
   "source": []
  }
 ],
 "metadata": {
  "kernelspec": {
   "display_name": "Python 3 (ipykernel)",
   "language": "python",
   "name": "python3"
  },
  "language_info": {
   "codemirror_mode": {
    "name": "ipython",
    "version": 3
   },
   "file_extension": ".py",
   "mimetype": "text/x-python",
   "name": "python",
   "nbconvert_exporter": "python",
   "pygments_lexer": "ipython3",
   "version": "3.10.12"
  }
 },
 "nbformat": 4,
 "nbformat_minor": 5
}
