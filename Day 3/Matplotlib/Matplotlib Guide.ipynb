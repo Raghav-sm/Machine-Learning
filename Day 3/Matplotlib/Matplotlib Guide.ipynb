{
 "cells": [
  {
   "cell_type": "markdown",
   "id": "04f021df",
   "metadata": {},
   "source": [
    "# When to use ,which plot."
   ]
  },
  {
   "cell_type": "markdown",
   "id": "319f4d33",
   "metadata": {},
   "source": [
    " ### Raghav   \n",
    "- Lineplot \n",
    "- Bar  \n",
    "- scatterplot\n",
    "- Boxplot\n",
    "- colormaps\n",
    "- kdeplot"
   ]
  },
  {
   "cell_type": "markdown",
   "id": "531ac722",
   "metadata": {},
   "source": [
    "## MAnju\n",
    "- Pie\n",
    "- Histogram\n",
    "- Heatmaps\n",
    "- Countplot\n",
    "- distplot\n",
    "- pairplot\n"
   ]
  },
  {
   "cell_type": "code",
   "execution_count": 5,
   "id": "cde5657a",
   "metadata": {},
   "outputs": [],
   "source": [
    "import matplotlib.pyplot as plt\n",
    "import seaborn as sns"
   ]
  },
  {
   "cell_type": "code",
   "execution_count": 4,
   "id": "078b1d43",
   "metadata": {},
   "outputs": [
    {
     "data": {
      "text/plain": [
       "<matplotlib.cm.ColormapRegistry at 0x236046a7010>"
      ]
     },
     "execution_count": 4,
     "metadata": {},
     "output_type": "execute_result"
    }
   ],
   "source": [
    "plt.colormaps"
   ]
  },
  {
   "cell_type": "code",
   "execution_count": 6,
   "id": "18b39b53",
   "metadata": {},
   "outputs": [
    {
     "data": {
      "text/plain": [
       "<function seaborn.distributions.distplot(a=None, bins=None, hist=True, kde=True, rug=False, fit=None, hist_kws=None, kde_kws=None, rug_kws=None, fit_kws=None, color=None, vertical=False, norm_hist=False, axlabel=None, label=None, ax=None, x=None)>"
      ]
     },
     "execution_count": 6,
     "metadata": {},
     "output_type": "execute_result"
    }
   ],
   "source": [
    "sns."
   ]
  },
  {
   "cell_type": "code",
   "execution_count": null,
   "id": "b047686f",
   "metadata": {},
   "outputs": [],
   "source": []
  }
 ],
 "metadata": {
  "kernelspec": {
   "display_name": "Python 3 (ipykernel)",
   "language": "python",
   "name": "python3"
  },
  "language_info": {
   "codemirror_mode": {
    "name": "ipython",
    "version": 3
   },
   "file_extension": ".py",
   "mimetype": "text/x-python",
   "name": "python",
   "nbconvert_exporter": "python",
   "pygments_lexer": "ipython3",
   "version": "3.10.12"
  }
 },
 "nbformat": 4,
 "nbformat_minor": 5
}
