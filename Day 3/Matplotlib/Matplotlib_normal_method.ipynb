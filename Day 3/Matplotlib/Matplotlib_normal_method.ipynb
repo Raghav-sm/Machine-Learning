{
 "cells": [
  {
   "cell_type": "markdown",
   "id": "beb96401",
   "metadata": {},
   "source": [
    "## This is Normal way of using matplotlib"
   ]
  },
  {
   "cell_type": "code",
   "execution_count": null,
   "id": "c29191c1",
   "metadata": {},
   "outputs": [],
   "source": [
    "import numpy as np\n",
    "import pandas as pd\n",
    "import matplotlib.pyplot as plt\n",
    "plt.style.use('default')\n",
    "import seaborn as sns"
   ]
  },
  {
   "cell_type": "code",
   "execution_count": null,
   "id": "8b34a5af",
   "metadata": {},
   "outputs": [],
   "source": [
    "plt.style.available"
   ]
  },
  {
   "cell_type": "code",
   "execution_count": null,
   "id": "0fa1362a",
   "metadata": {},
   "outputs": [],
   "source": [
    "plt.style.use('fivethirtyeight')"
   ]
  },
  {
   "cell_type": "code",
   "execution_count": null,
   "id": "d6e57286",
   "metadata": {},
   "outputs": [],
   "source": [
    "batsman = pd.read_csv('sharma-kohli.csv')\n",
    "batsman"
   ]
  },
  {
   "cell_type": "code",
   "execution_count": null,
   "id": "dd344a3f",
   "metadata": {},
   "outputs": [],
   "source": [
    "batsman = batsman.rename(columns = {'RG Sharma': 'RH Sharma' ,\n",
    "                                    'index' : 'Year'})\n",
    "batsman"
   ]
  },
  {
   "cell_type": "code",
   "execution_count": null,
   "id": "a59dd3d4",
   "metadata": {},
   "outputs": [],
   "source": [
    "plt.plot(batsman['Year'] ,batsman['RH Sharma'],color = 'orange',linestyle = 'dashdot' ,linewidth = 2,\n",
    "         marker = 'o',markersize = 5, label = 'Rohit Sharma');\n",
    "plt.plot(batsman['Year'] ,batsman['V Kohli'] , color = 'black' , linestyle = 'dashdot' ,\n",
    "         marker = 'D',markersize = 5 , label = 'Virat Kohli');\n",
    "plt.title('Rohit vs Virat Career Comparison',fontsize = 18);\n",
    "plt.xlabel('Seasons');\n",
    "plt.ylabel('Runs');\n",
    "plt.legend();\n",
    "#plt.legend(loc = '')"
   ]
  },
  {
   "cell_type": "code",
   "execution_count": null,
   "id": "56737225",
   "metadata": {},
   "outputs": [],
   "source": [
    "price = [1000 , 2500 , 3300 , 4750 ,450000]\n",
    "year = [2010,2011,2012,2013,2014]\n",
    "plt.plot(year,price);\n",
    "# 450000 is an outlier so we can fix it using ylim."
   ]
  },
  {
   "cell_type": "code",
   "execution_count": null,
   "id": "c8d1d48f",
   "metadata": {},
   "outputs": [],
   "source": [
    "price = [1000 , 2500 , 3300 , 4750 ,450000]\n",
    "plt.figure(figsize=(12,8))\n",
    "year = [2010,2011,2012,2013,2014]\n",
    "plt.plot(year,price);\n",
    "plt.ylim(0,10000);\n",
    "#Here X axis is wrong so lets fix it using xlim."
   ]
  },
  {
   "cell_type": "code",
   "execution_count": null,
   "id": "96b4db9e",
   "metadata": {},
   "outputs": [],
   "source": [
    "price = [1000 , 2500 , 3300 , 4750 ,450000]\n",
    "year = [2010,2011,2012,2013,2014]\n",
    "plt.plot(year,price);\n",
    "plt.ylim(0,10000);\n",
    "plt.xlim(2010,2015,1);\n",
    "plt.grid();"
   ]
  },
  {
   "cell_type": "code",
   "execution_count": null,
   "id": "5edfa4f1",
   "metadata": {},
   "outputs": [],
   "source": [
    "df = pd.read_csv('batter.csv');\n",
    "df"
   ]
  },
  {
   "cell_type": "code",
   "execution_count": null,
   "id": "18044640",
   "metadata": {},
   "outputs": [],
   "source": [
    "df.sort_values(by = 'runs', ascending = False , inplace = True)\n",
    "df"
   ]
  },
  {
   "cell_type": "markdown",
   "id": "c288e08d",
   "metadata": {},
   "source": [
    "If You want to sort based on avg then\n",
    "```\n",
    "df.sort_values(by = 'avg' , ascending = False , inplace = True)\n",
    "df.sort_index(drop = True)\n",
    "```"
   ]
  },
  {
   "cell_type": "markdown",
   "id": "07951f75",
   "metadata": {},
   "source": [
    "Using scatter plots to find the best batsman."
   ]
  },
  {
   "cell_type": "code",
   "execution_count": null,
   "id": "7c952af7",
   "metadata": {},
   "outputs": [],
   "source": [
    "plt.scatter(df['avg'].head(50) , df['runs'].head(50) ,\n",
    "            marker = 'P' , color = 'red');\n",
    "plt.xlabel('Average of Batman');\n",
    "plt.ylabel('Strike Rate of Batsman');\n",
    "plt.title('Best Batsman Analysis',fontsize = 18);"
   ]
  },
  {
   "cell_type": "code",
   "execution_count": null,
   "id": "db84bb66",
   "metadata": {},
   "outputs": [],
   "source": [
    "tips = sns.load_dataset('tips')\n",
    "tips"
   ]
  },
  {
   "cell_type": "code",
   "execution_count": null,
   "id": "3c36426a",
   "metadata": {},
   "outputs": [],
   "source": [
    "plt.scatter(tips['total_bill'], tips['tip'] , s = tips['size']*10 , marker = '+');\n",
    "# or \n",
    "# plt.plt(tips['total_bill'], tips['tip'] , 'o') \n",
    "# this is for lineplot but with 'o' it turns into scatterplot.\n",
    "#plt.plot is faster but we cant add color so with small dataset its adviced to use scatterplot."
   ]
  },
  {
   "cell_type": "markdown",
   "id": "db62dfa5",
   "metadata": {},
   "source": [
    "# Barplot"
   ]
  },
  {
   "cell_type": "code",
   "execution_count": null,
   "id": "a596d27a",
   "metadata": {},
   "outputs": [],
   "source": [
    "rec = pd.read_csv('batsman_season_record.csv')\n",
    "rec"
   ]
  },
  {
   "cell_type": "code",
   "execution_count": null,
   "id": "ba2a7c6b",
   "metadata": {},
   "outputs": [],
   "source": [
    "plt.bar(rec['batsman'] , rec['2015'], width = 0.5);\n",
    "plt.bar(rec['batsman'] , rec['2016'], width = 0.5);\n",
    "plt.bar(rec['batsman'] , rec['2017'] , width = 0.5);\n",
    "plt.xlabel('Batman');\n",
    "plt.ylabel('Runs');\n",
    "plt.title('Batsman Record Stats');\n",
    "plt.ylim(0,800);"
   ]
  },
  {
   "cell_type": "markdown",
   "id": "64089b8c",
   "metadata": {},
   "source": [
    "The graph is overlapping so place it side by side."
   ]
  },
  {
   "cell_type": "code",
   "execution_count": null,
   "id": "4b6a7c96",
   "metadata": {},
   "outputs": [],
   "source": [
    "plt.bar(rec['batsman'],rec['2017'],width = 0.3,color = 'green');\n",
    "plt.bar(rec['batsman'] , rec['2015'], width = 0.5);\n",
    "plt.bar(rec['batsman'] , rec['2016'], width = 0.5);\n",
    "plt.xlabel('Batman');\n",
    "plt.ylabel('Runs');\n",
    "plt.title('Batsman Record Statistics');\n",
    "plt.ylim(0,800);"
   ]
  },
  {
   "cell_type": "code",
   "execution_count": null,
   "id": "5e895fb9",
   "metadata": {},
   "outputs": [],
   "source": [
    "plt.bar(np.arange(rec.shape[0]) - 0.2  , rec['2015'] , width = 0.2);\n",
    "plt.bar(np.arange(rec.shape[0]) , rec['2016'] , width = 0.2 , color = 'red');\n",
    "plt.bar(np.arange(rec.shape[0]) + 0.2 , rec['2017'] , width = 0.2 ,color = 'green');\n",
    "plt.xticks(np.arange(rec.shape[0]),rec['batsman']);\n",
    "plt.ylim(0,800);"
   ]
  },
  {
   "cell_type": "markdown",
   "id": "f3856f4e",
   "metadata": {},
   "source": [
    "# Stacked Barplot"
   ]
  },
  {
   "cell_type": "code",
   "execution_count": null,
   "id": "6227871c",
   "metadata": {},
   "outputs": [],
   "source": [
    "plt.bar(rec['batsman'], rec['2015'] , color = 'red' ,label = '2015')\n",
    "plt.bar(rec['batsman'], rec['2016'], bottom=rec['2015'] , color = 'green' ,label = '2016')\n",
    "plt.bar(rec['batsman'], rec['2017'], bottom=rec['2015'] + rec['2016'], color = 'black',label = '2017')\n",
    "plt.xlabel('Batsman')\n",
    "plt.ylabel('Runs')\n",
    "plt.title('Batsman Record Statistics')\n",
    "plt.legend()\n",
    "plt.show()\n"
   ]
  },
  {
   "cell_type": "markdown",
   "id": "13704454",
   "metadata": {},
   "source": [
    "# Histogram"
   ]
  },
  {
   "cell_type": "markdown",
   "id": "0e423885",
   "metadata": {},
   "source": [
    "Logarithmic scales"
   ]
  },
  {
   "cell_type": "code",
   "execution_count": null,
   "id": "96b548e3",
   "metadata": {},
   "outputs": [],
   "source": [
    "arr = np.load('big-array.npy')\n",
    "arr.shape"
   ]
  },
  {
   "cell_type": "code",
   "execution_count": null,
   "id": "53945783",
   "metadata": {},
   "outputs": [],
   "source": [
    "plt.hist(arr);"
   ]
  },
  {
   "cell_type": "code",
   "execution_count": null,
   "id": "133406ae",
   "metadata": {},
   "outputs": [],
   "source": [
    "plt.hist(arr ,log = True);"
   ]
  },
  {
   "cell_type": "markdown",
   "id": "b1504f09",
   "metadata": {},
   "source": [
    "# pie chart"
   ]
  },
  {
   "cell_type": "code",
   "execution_count": null,
   "id": "9fa81a81",
   "metadata": {},
   "outputs": [],
   "source": [
    "gayle = pd.read_csv('gayle-175.csv')"
   ]
  },
  {
   "cell_type": "code",
   "execution_count": null,
   "id": "dd6d13c5",
   "metadata": {},
   "outputs": [],
   "source": [
    "plt.pie(gayle['batsman_runs'], labels =gayle['batsman'],\n",
    "       autopct = '%0.f%%' ,\n",
    "       explode =[0.1,0.2,0.1,0.1,0.1,0.1],\n",
    "       shadow = False);"
   ]
  },
  {
   "cell_type": "markdown",
   "id": "3700076f",
   "metadata": {},
   "source": [
    "#### saving Figures"
   ]
  },
  {
   "cell_type": "markdown",
   "id": "8775c2e1",
   "metadata": {},
   "source": [
    "```plt.savefig(wttver)```"
   ]
  },
  {
   "cell_type": "markdown",
   "id": "3c8821c4",
   "metadata": {},
   "source": [
    "#### ScatterPlots"
   ]
  },
  {
   "cell_type": "code",
   "execution_count": null,
   "id": "1397f475",
   "metadata": {},
   "outputs": [],
   "source": [
    "heart = pd.read_csv('heart-disease.csv')\n",
    "heart"
   ]
  },
  {
   "cell_type": "code",
   "execution_count": null,
   "id": "56eac8e3",
   "metadata": {},
   "outputs": [],
   "source": [
    "plt.scatter(heart['age'] , heart['chol'])\n",
    "plt.xlabel('Age')\n",
    "plt.ylabel('Cholestrol')\n",
    "plt.show()"
   ]
  },
  {
   "cell_type": "markdown",
   "id": "a46b0c03",
   "metadata": {},
   "source": [
    "But we dont know gender so we use:-"
   ]
  },
  {
   "cell_type": "code",
   "execution_count": null,
   "id": "c4295941",
   "metadata": {},
   "outputs": [],
   "source": [
    "plt.figure(figsize = (12,8))\n",
    "plt.scatter(heart['age'] , heart['chol'] , c = heart['sex'] , \n",
    "            cmap = 'inferno',alpha = 0.8 ,s = 300 )\n",
    "plt.xlabel('Age')\n",
    "plt.ylabel('Cholestrol')\n",
    "# plt.colorbar()\n",
    "plt.show()"
   ]
  },
  {
   "cell_type": "markdown",
   "id": "80ff1b82",
   "metadata": {},
   "source": [
    "### Annotations  \n",
    "We can place a text on graph using annotations"
   ]
  },
  {
   "cell_type": "code",
   "execution_count": null,
   "id": "78d2ec6d",
   "metadata": {},
   "outputs": [],
   "source": [
    "sample_bat = df.head(100).sample(25, random_state = 5)"
   ]
  },
  {
   "cell_type": "code",
   "execution_count": null,
   "id": "106851a6",
   "metadata": {},
   "outputs": [],
   "source": [
    "# Setting up the figure size\n",
    "plt.figure(figsize=(12, 8))\n",
    "\n",
    "# Creating a scatter plot with marker size based on runs\n",
    "plt.scatter(sample_bat['avg'], sample_bat['strike_rate'], s=sample_bat['runs'] * 0.2)\n",
    "\n",
    "# Setting labels for the axes\n",
    "plt.xlabel('Average', fontsize=18)\n",
    "plt.ylabel('Strike Rate', fontsize=18)\n",
    "\n",
    "# Adding a horizontal / vertical line at y=130 with red color\n",
    "plt.axhline(130, color='black' , linewidth = 2)\n",
    "plt.axhline(140, color='red' , linewidth = 2)\n",
    "plt.axvline(30, color='green' , linewidth = 2)\n",
    "\n",
    "# Adding labels for each point in the scatter plot\n",
    "for i in range(sample_bat.shape[0]):\n",
    "    plt.text(sample_bat['avg'].values[i], sample_bat['strike_rate'].values[i], \n",
    "             sample_bat['batter'].values[i])\n",
    "\n",
    "# Display the plot\n",
    "plt.show()\n"
   ]
  },
  {
   "cell_type": "markdown",
   "id": "2c2e3703",
   "metadata": {},
   "source": [
    "## Subplots"
   ]
  },
  {
   "cell_type": "code",
   "execution_count": null,
   "id": "1ccf37b1",
   "metadata": {},
   "outputs": [],
   "source": [
    "# Creating subplots with 2 rows and 1 column, setting the figure size\n",
    "fig, ax = plt.subplots(figsize=(12, 8), nrows=2, ncols=1 , sharex = True)\n",
    "\n",
    "# Scatter plot in the first subplot (top subplot)\n",
    "ax[0].scatter(df['avg'], df['strike_rate'], marker='+', color='red')\n",
    "ax[0].set_xlabel('Average')  # Setting x-axis label for the first subplot\n",
    "ax[0].set_ylabel('Strike Rate')  # Setting y-axis label for the first subplot\n",
    "\n",
    "# Scatter plot in the second subplot (bottom subplot)\n",
    "ax[1].scatter(df['avg'], df['runs'], marker='^', color='blue')\n",
    "ax[1].set_ylabel('Runs')  # Setting y-axis label for the second subplot\n",
    "ax[1].set_xlabel('Average')  # Setting x-axis label for the second subplot\n",
    "\n",
    "# Adding a common title to the entire figure\n",
    "fig.suptitle('Super Title', fontsize=22)\n",
    "\n",
    "# Display the plot\n",
    "plt.show()\n"
   ]
  },
  {
   "cell_type": "markdown",
   "id": "0b49e9de",
   "metadata": {},
   "source": [
    "## 3D SurfacePlot  \n",
    "Used in machine learing (i.e loss function)"
   ]
  },
  {
   "cell_type": "code",
   "execution_count": null,
   "id": "b7a6e4a8",
   "metadata": {},
   "outputs": [],
   "source": [
    "# Generate x and y values\n",
    "x = np.linspace(-10, 10, 100)\n",
    "y = np.linspace(-10, 10, 100)\n",
    "\n",
    "# Create a meshgrid\n",
    "xx, yy = np.meshgrid(x, y)\n",
    "\n",
    "# Calculate the function values\n",
    "z = xx**2 + yy**2\n",
    "# Create a figure and a 3D axis\n",
    "fig = plt.figure(figsize=(15, 8))\n",
    "ax = fig.add_subplot(111, projection='3d')\n",
    "# Plot the surface\n",
    "ax.plot_surface(xx, yy, z, cmap='inferno')\n",
    "# Adding labels\n",
    "ax.set_xlabel('X')\n",
    "ax.set_ylabel('Y')\n",
    "ax.set_zlabel('Z')\n",
    "# Adding a title\n",
    "ax.set_title('Surface Plot of $z = x^2 + y^2$')\n",
    "# Show the plot\n",
    "plt.show()"
   ]
  },
  {
   "cell_type": "markdown",
   "id": "c65ad604",
   "metadata": {},
   "source": [
    "### Contourplot   \n",
    "Its same as Surfaceplot but its in 2D"
   ]
  },
  {
   "cell_type": "code",
   "execution_count": null,
   "id": "c1c1ad8d",
   "metadata": {},
   "outputs": [],
   "source": [
    "# Create a figure and axis\n",
    "fig = plt.figure(figsize=(12, 8))\n",
    "ax = fig.add_subplot(111)\n",
    "# Create a contour plot\n",
    "contour = ax.contour(xx, yy, z, cmap='viridis')\n",
    "# Adding labels and title\n",
    "ax.set_xlabel('X')\n",
    "ax.set_ylabel('Y')\n",
    "ax.set_title('Contour Plot of $z = x^2 + y^2$')\n",
    "# Adding a colorbar\n",
    "cbar = plt.colorbar(contour)\n",
    "cbar.set_label('Z')\n",
    "# Show the plot\n",
    "plt.show()\n"
   ]
  },
  {
   "cell_type": "markdown",
   "id": "84740dfe",
   "metadata": {},
   "source": [
    "### ContourF plot"
   ]
  },
  {
   "cell_type": "code",
   "execution_count": null,
   "id": "a3361a4d",
   "metadata": {},
   "outputs": [],
   "source": [
    "# Create a figure and axis\n",
    "fig = plt.figure(figsize=(12, 8))\n",
    "ax = fig.add_subplot(111)\n",
    "# Create a contour plot\n",
    "contour = ax.contourf(xx, yy, z, cmap='viridis')\n",
    "# Adding labels and title\n",
    "ax.set_xlabel('X')\n",
    "ax.set_ylabel('Y')\n",
    "ax.set_title('Contour Plot of $z = x^2 + y^2$')\n",
    "# Adding a colorbar\n",
    "cbar = plt.colorbar(contour)\n",
    "cbar.set_label('Z')\n",
    "# Show the plot\n",
    "plt.show()\n"
   ]
  },
  {
   "cell_type": "markdown",
   "id": "2781edd9",
   "metadata": {},
   "source": [
    "## HeatMap"
   ]
  },
  {
   "cell_type": "code",
   "execution_count": null,
   "id": "1dee626b",
   "metadata": {},
   "outputs": [],
   "source": [
    "delivery  = pd.read_csv('IPL_Ball_by_Ball_2008_2022.csv')\n",
    "delivery.sample(10)"
   ]
  },
  {
   "cell_type": "code",
   "execution_count": null,
   "id": "caaf5eaa",
   "metadata": {},
   "outputs": [],
   "source": [
    "overs_df = delivery[(delivery['ballnumber'].isin([1,2,3,4,5,6])) & (delivery['batsman_run']==6)]"
   ]
  },
  {
   "cell_type": "code",
   "execution_count": null,
   "id": "00cea3b7",
   "metadata": {},
   "outputs": [],
   "source": [
    "grid = overs_df.pivot_table(index = 'overs' , columns = 'ballnumber' ,values = 'batsman_run' ,\n",
    "                            aggfunc = 'count')\n",
    "grid"
   ]
  },
  {
   "cell_type": "code",
   "execution_count": null,
   "id": "146ea4f7",
   "metadata": {},
   "outputs": [],
   "source": [
    "plt.imshow(grid)\n",
    "cbar = plt.colorbar()\n",
    "plt.show()"
   ]
  },
  {
   "cell_type": "code",
   "execution_count": null,
   "id": "57bcb17a",
   "metadata": {},
   "outputs": [],
   "source": []
  }
 ],
 "metadata": {
  "kernelspec": {
   "display_name": "Python 3 (ipykernel)",
   "language": "python",
   "name": "python3"
  },
  "language_info": {
   "codemirror_mode": {
    "name": "ipython",
    "version": 3
   },
   "file_extension": ".py",
   "mimetype": "text/x-python",
   "name": "python",
   "nbconvert_exporter": "python",
   "pygments_lexer": "ipython3",
   "version": "3.10.12"
  }
 },
 "nbformat": 4,
 "nbformat_minor": 5
}
